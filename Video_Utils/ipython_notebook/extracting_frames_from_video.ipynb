{
 "cells": [
  {
   "cell_type": "code",
   "execution_count": 1,
   "metadata": {},
   "outputs": [],
   "source": [
    "import cv2\n",
    "import numpy as np\n",
    "import os\n",
    "from moviepy.editor import *\n",
    "from moviepy.video.io.VideoFileClip import VideoFileClip\n",
    "import glob"
   ]
  },
  {
   "cell_type": "code",
   "execution_count": 15,
   "metadata": {},
   "outputs": [],
   "source": [
    "video_file_path='../Data/videos/Khaleesi_emilia_dragon.mp4'\n",
    "output_directory_path='../Output_folder/video_to_frames'"
   ]
  },
  {
   "cell_type": "code",
   "execution_count": 10,
   "metadata": {},
   "outputs": [],
   "source": [
    "def make_dir(output_directory_path):\n",
    "    try:\n",
    "        if not os.path.exists(output_directory_path):\n",
    "            os.makedirs(output_directory_path)\n",
    "    except OSError:\n",
    "        print ('Error: Creating directory of data')"
   ]
  },
  {
   "cell_type": "code",
   "execution_count": 14,
   "metadata": {},
   "outputs": [],
   "source": [
    "no=0\n",
    "make_dir(output_directory_path+'/'+video_file_path.split('/')[-1][:-4])    \n",
    "clip=VideoFileClip(video_file_path)\n",
    "for i in range(int(clip.duration)*25):\n",
    "    no=no+1\n",
    "    frame_name =output_directory_path+'/'+video_file_path.split('/')[-1][:-4]+'/frame' + str(no) + '.png'\n",
    "    clip.save_frame(frame_name, t=float(i)/25)"
   ]
  }
 ],
 "metadata": {
  "kernelspec": {
   "display_name": "Python 3",
   "language": "python",
   "name": "python3"
  },
  "language_info": {
   "codemirror_mode": {
    "name": "ipython",
    "version": 3
   },
   "file_extension": ".py",
   "mimetype": "text/x-python",
   "name": "python",
   "nbconvert_exporter": "python",
   "pygments_lexer": "ipython3",
   "version": "3.6.5"
  }
 },
 "nbformat": 4,
 "nbformat_minor": 2
}
