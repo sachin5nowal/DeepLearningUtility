{
 "cells": [
  {
   "cell_type": "code",
   "execution_count": null,
   "metadata": {},
   "outputs": [],
   "source": [
    "\"\"\"\n",
    "Some classifiers:\n",
    "---------------------------------\n",
    "Naive Bayes\n",
    "Maximum entropy classifier\n",
    "Decision Tree\n",
    "Random Forest\n",
    "XGBoost\n",
    "Support Vector Machine\n",
    "Multi-layer perceptron\n",
    "Convolutional neural networks (We experimented with 1, 2, 3 and 4 layers)\n",
    "\n",
    "\"\"\""
   ]
  },
  {
   "cell_type": "code",
   "execution_count": null,
   "metadata": {},
   "outputs": [],
   "source": []
  }
 ],
 "metadata": {
  "kernelspec": {
   "display_name": "Python 3",
   "language": "python",
   "name": "python3"
  },
  "language_info": {
   "codemirror_mode": {
    "name": "ipython",
    "version": 3
   },
   "file_extension": ".py",
   "mimetype": "text/x-python",
   "name": "python",
   "nbconvert_exporter": "python",
   "pygments_lexer": "ipython3",
   "version": "3.6.5"
  }
 },
 "nbformat": 4,
 "nbformat_minor": 2
}
