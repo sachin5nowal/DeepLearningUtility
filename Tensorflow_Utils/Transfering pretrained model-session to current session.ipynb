{
 "cells": [
  {
   "cell_type": "code",
   "execution_count": 1,
   "metadata": {},
   "outputs": [],
   "source": [
    "# This file used to transfer a pre-trained model's\n",
    "# weight(it's network architecture may be different from ours) to thr main model\n",
    "def restore_from_source(sess,source_path):\n",
    "    s_saver = tf.train.Saver()\n",
    "    ckpt = tf.train.get_checkpoint_state(source_path)\n",
    "    if ckpt and ckpt.model_checkpoint_path:\n",
    "        s_saver.restore(sess, ckpt.model_checkpoint_path)\n",
    "        print(\"restore and continue training!\")\n",
    "        return sess\n",
    "    else:\n",
    "        raise IOError(\"Not found source model\")"
   ]
  },
  {
   "cell_type": "code",
   "execution_count": 2,
   "metadata": {},
   "outputs": [],
   "source": [
    "def _init_all_uninitialized_variables(sess):\n",
    "    uninitialized_variables = sess.run(tf.report_uninitialized_variables())\n",
    "    init_op = tf.variables_initializer([v for v in tf.global_variables() if v.name.split(':')[0] in set(uninitialized_variables)])\n",
    "    sess.run(init_op)\n",
    "    init_op = tf.variables_initializer([v for v in tf.local_variables() if v.name.split(':')[0] in set(uninitialized_variables)])\n",
    "    sess.run(init_op)"
   ]
  },
  {
   "cell_type": "code",
   "execution_count": 3,
   "metadata": {},
   "outputs": [],
   "source": [
    "def save_to_target(sess,target_path,max_to_keep=5):\n",
    "    t_saver = tf.train.Saver(max_to_keep=max_to_keep)\n",
    "    _init_all_uninitialized_variables(sess)\n",
    "    if not os.path.exists(target_path):\n",
    "        os.mkdir(target_path)\n",
    "    save_path = t_saver.save(sess, target_path+\"model.ckpt\",global_step=0)\n",
    "    print(\"Model saved in file: %s\" % save_path)\n",
    "    return sess,t_saver"
   ]
  }
 ],
 "metadata": {
  "kernelspec": {
   "display_name": "Python 3",
   "language": "python",
   "name": "python3"
  },
  "language_info": {
   "codemirror_mode": {
    "name": "ipython",
    "version": 3
   },
   "file_extension": ".py",
   "mimetype": "text/x-python",
   "name": "python",
   "nbconvert_exporter": "python",
   "pygments_lexer": "ipython3",
   "version": "3.6.5"
  }
 },
 "nbformat": 4,
 "nbformat_minor": 2
}
